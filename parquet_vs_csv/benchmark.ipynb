{
  "nbformat": 4,
  "nbformat_minor": 0,
  "metadata": {
    "colab": {
      "provenance": []
    },
    "kernelspec": {
      "name": "python3",
      "display_name": "Python 3"
    },
    "language_info": {
      "name": "python"
    }
  },
  "cells": [
    {
      "cell_type": "code",
      "execution_count": 4,
      "metadata": {
        "id": "oC1-sSLjCdPQ"
      },
      "outputs": [],
      "source": [
        "import time  as t\n",
        "import pandas as pd\n",
        "import os"
      ]
    },
    {
      "cell_type": "code",
      "source": [
        "df_csv = pd.read_csv(\"/content/continent.csv\")\n",
        "df_parquet = pd.read_parquet(\"/content/continent.parquet\")"
      ],
      "metadata": {
        "id": "d4qSy9IpInXz"
      },
      "execution_count": 6,
      "outputs": []
    },
    {
      "cell_type": "code",
      "source": [
        "start_time = t.time()\n",
        "df = pd.read_csv(\"/content/continent.csv\")\n",
        "end_time = t.time()\n",
        "csv_read_speed = end_time - start_time\n",
        "print(csv_read_speed)"
      ],
      "metadata": {
        "colab": {
          "base_uri": "https://localhost:8080/"
        },
        "id": "vw0D2J6SDIUC",
        "outputId": "54935f53-48cf-4c4f-e3b7-48153933313e"
      },
      "execution_count": 2,
      "outputs": [
        {
          "output_type": "stream",
          "name": "stdout",
          "text": [
            "0.08598899841308594\n"
          ]
        }
      ]
    },
    {
      "cell_type": "code",
      "source": [
        "start_time = t.time()\n",
        "df = pd.read_parquet(\"/content/continent.parquet\")\n",
        "end_time = t.time()\n",
        "parquet_read_speed = end_time - start_time\n",
        "print(parquet_read_speed)"
      ],
      "metadata": {
        "id": "CTK5cMmCEOfS",
        "colab": {
          "base_uri": "https://localhost:8080/"
        },
        "outputId": "42b80f01-a2d0-4f7c-d201-3cd3b301765b"
      },
      "execution_count": 3,
      "outputs": [
        {
          "output_type": "stream",
          "name": "stdout",
          "text": [
            "0.049874305725097656\n"
          ]
        }
      ]
    },
    {
      "cell_type": "code",
      "source": [
        "csv_size = os.path.getsize(\"/content/continent.csv\")\n",
        "parquet_size = os.path.getsize(\"/content/continent.parquet\")"
      ],
      "metadata": {
        "id": "sJpNNpNZHGj-"
      },
      "execution_count": 5,
      "outputs": []
    },
    {
      "cell_type": "code",
      "source": [
        "print(csv_size,parquet_size)"
      ],
      "metadata": {
        "colab": {
          "base_uri": "https://localhost:8080/"
        },
        "id": "0V6voWxYJMB5",
        "outputId": "73560347-f70a-450d-e3a7-9f95f0c483ea"
      },
      "execution_count": 9,
      "outputs": [
        {
          "output_type": "stream",
          "name": "stdout",
          "text": [
            "7902520 3069756\n"
          ]
        }
      ]
    },
    {
      "cell_type": "code",
      "source": [
        "csvzip = df_csv.to_pickle(\"continent_csv.zip\")\n",
        "parquetzip = df_parquet.to_pickle(\"continent_parquet.zip\")"
      ],
      "metadata": {
        "id": "hZW6mgAjHGhQ"
      },
      "execution_count": 10,
      "outputs": []
    },
    {
      "cell_type": "markdown",
      "source": [
        "--------\n",
        "\n",
        "| Metrics | Parquet | CSV |\n",
        "|----------|--------|------|\n",
        "| Read time |0.049874305725097656|0.08598899841308594 |\n",
        "| Size | 3069756 | 7902520 |"
      ],
      "metadata": {
        "id": "x25K2E8RKKpo"
      }
    },
    {
      "cell_type": "code",
      "source": [],
      "metadata": {
        "id": "7GjhxSVgLxBW"
      },
      "execution_count": null,
      "outputs": []
    }
  ]
}